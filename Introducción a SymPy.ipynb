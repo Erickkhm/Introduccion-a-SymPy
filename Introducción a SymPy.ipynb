{
 "cells": [
  {
   "cell_type": "markdown",
   "metadata": {},
   "source": [
    "Elaboró Hernández Martínez Erick Daniel             \n",
    " Github: Erickkhm"
   ]
  },
  {
   "cell_type": "markdown",
   "metadata": {},
   "source": [
    "# **Introducción a SymPy**"
   ]
  },
  {
   "cell_type": "markdown",
   "metadata": {},
   "source": [
    "### ***Índice***\n",
    "* [1. ¿Qué es SymPy?](#¿Qué-es-SymPy?) \n",
    "* [2. Creación de expresiones en SimPy](#Creación-de-expresiones-en-SimPy)\n",
    "    * [2.1. Símbolos](#Símbolos)\n",
    "    * [2.2. Funciones](#Funciones)\n",
    "* [3. Manipulación de expresiones](#Manipulación-de-expresiones)\n",
    "    * [3.1. Substitución](#Substitución)\n",
    "    * [3.2. Simplificación](#Simplificación)\n",
    "    * [3.3. Evaluación númerica](#Evaluación-númerica)\n",
    "* [4. Calcúlo con SymPy](#Calcúlo-con-SymPy)\n",
    "    * [4.1.Derivadas](#Derivadas)\n",
    "    * [4.2. Integrales](#Integrales)\n",
    "    * [4.3. Límites](#Límites)\n",
    "    * [4.4. Taylor series](#Taylor-series)\n",
    "    * [4.5. Resolver ecuaciones](#Resolver-ecuaciones)\n",
    "* [5.Algunas funciones creadas con SymPy](#Algunas-funciones-creadas-con-SymPy)\n",
    "    * [5.1. Graficas de función, derivada y función primitiva](#Graficas-de-función,-derivada-y-función-primitiva)\n",
    "    * [5.2. Calculo de área entre dos funciones](#Calculo-de-área-entre-dos-funciones)\n",
    "* [6. Bibliografía](#Bibliografía)"
   ]
  },
  {
   "cell_type": "markdown",
   "metadata": {},
   "source": [
    "![][imagen] \n",
    "\n",
    "[imagen]:https://upload.wikimedia.org/wikipedia/commons/thumb/5/54/Sympy_logo.svg/1200px-Sympy_logo.svg.png"
   ]
  },
  {
   "cell_type": "markdown",
   "metadata": {},
   "source": [
    "## ¿Qué es SymPy?\n",
    "\n",
    "SymPy es un sistema de álgebra informática (CAS) escrito en el lenguaje de programación Python . SymPy es fácil de usar e instalar y funciona en todos los lugares donde está instalado Python 2.7 o posterior.\n",
    "\n",
    "Simpy es una paquetería que nos permite hacer cálculo simbólico y numérico, contiene funciones y aplicaciones que son muy útiles para elaborar cálculo complejo \n",
    "\n",
    "Un sistema de álgebra de computadora (CAS) es un programa de computadora diseñado para manipular matemáticas\n",
    ", expresiones temáticas en forma simbólica en lugar de numérica, una tarea que se lleva a cabo\n",
    "por científicos teóricos. Hay una serie de programas especializados y algunos\n",
    "sistemas de propósito aplicables a una amplia gama de problemas, y es este último el que\n",
    "considerar aquí.\n",
    "\n",
    "La característica más sorprendente de SymPy es que está escrito completamente en Python y, de hecho, es solo un módulo adicional. Es pequeño y funciona en cualquier sistema Python. Interfaces Bueno, a NumPy para números y a Matplotlib para gráficos. El modo terminal estándar\n",
    "tiene una salida poco sofisticada, pero, naturalmente, se puede utilizar dentro del portátil Jupyter, y\n",
    "allí ofrece quizás el mejor formato disponible actualmente de complicados simbólicos\n",
    "salida. \n",
    "\n",
    "\n",
    "\n",
    "\n",
    "Simpy es una paquetería de Python que utiliza y recibe el lenguaje de python, en la paquetería podemos encontrar la creación e interpretación de símbolos y funciones e incluye funciones que nos permiten crear funciones matemáticas más complejas ya que simpy cuanta con funciones como derivar, integrar, simplificar expresiones e incluye el reconocimiento e interpretación de números enteros, racionales, flotantes y números complejos, entre otras características más, todo ello da como resultado que simpy sea una paquetería que nos brinda múltiples herramientas para realizar calculo y programas matemáticos de manera mucho más sencilla y eficaz.\n",
    "\n"
   ]
  },
  {
   "cell_type": "markdown",
   "metadata": {},
   "source": [
    "# Símbolos"
   ]
  },
  {
   "cell_type": "markdown",
   "metadata": {},
   "source": [
    "El verdadero poder de las matemáticas viene\n",
    "del uso de variables algebraicas. Para ello, debe utilizar los objetos Symbol. Para crearlos,\n",
    "debe especificar su nombre y, opcionalmente, puede especificar varios \"supuestos\" sobre el\n",
    "variable. Los supuestos disponibles incluyen \"entero\", \"real\", \"positivo\", etc. Si ninguno es\n",
    "especificado, el objeto Símbolo se trata como una variable compleja. Implicaciones entre propiedades\n",
    "se tienen en cuenta automáticamente y las combinaciones imposibles provocan un error. \n",
    "\n",
    "Hay varias formas de crear instancias de clases, y quizás la forma más común de manejar\n",
    "insertar la línea x, y = sy.symbols (\"x y\")\n",
    "\n",
    "\n",
    "La función de símbolos () facilita la creación de muchos símbolos a la vez. La palabra clave\n",
    "los argumentos que le da se pasan al constructor Symbol (). Para el primer argumento,\n",
    "acepta un mini-lenguaje inspirado en la notación de segmento de Python, que se describe mejor\n",
    "con el siguiente ejemplo:"
   ]
  },
  {
   "cell_type": "code",
   "execution_count": 210,
   "metadata": {},
   "outputs": [],
   "source": [
    "from sympy import *"
   ]
  },
  {
   "cell_type": "markdown",
   "metadata": {},
   "source": [
    "Podemos crear símbolos usando la función symbols()  y podemos crear varios símbolos a la vez  como se muestra a continuación "
   ]
  },
  {
   "cell_type": "code",
   "execution_count": 211,
   "metadata": {},
   "outputs": [],
   "source": [
    "x = symbols('x')\n",
    "t, y, z = symbols('t y z')"
   ]
  },
  {
   "cell_type": "code",
   "execution_count": 212,
   "metadata": {},
   "outputs": [],
   "source": [
    "z = Symbol('z') # variable compleja \n",
    "x = Symbol('x', real=True) #simbolo entre los reales\n",
    "a = Symbol('a', positive=True) # simbolo en los positivos"
   ]
  },
  {
   "cell_type": "code",
   "execution_count": 213,
   "metadata": {},
   "outputs": [
    {
     "name": "stdout",
     "output_type": "stream",
     "text": [
      "<class 'sympy.core.symbol.Symbol'>\n",
      "<class 'sympy.core.symbol.Symbol'>\n"
     ]
    }
   ],
   "source": [
    "print(type(x))\n",
    "print(type(t))"
   ]
  },
  {
   "cell_type": "markdown",
   "metadata": {},
   "source": [
    "También podemos crear una serie de símbolos indicando usando literales indicando la letra de inicio y el límite."
   ]
  },
  {
   "cell_type": "code",
   "execution_count": 214,
   "metadata": {},
   "outputs": [
    {
     "data": {
      "text/plain": [
       "(a, b, c, i, j, k)"
      ]
     },
     "execution_count": 214,
     "metadata": {},
     "output_type": "execute_result"
    }
   ],
   "source": [
    "symbols('a:c, i:k')"
   ]
  },
  {
   "cell_type": "markdown",
   "metadata": {},
   "source": [
    "Al igual que con las literales se puede utilizar un símbolo con un subíndice colocando primero el símbolo y después numero de símbolos que se desea crear, se puede indicar desde que subíndice se desea empezar."
   ]
  },
  {
   "cell_type": "code",
   "execution_count": 215,
   "metadata": {},
   "outputs": [
    {
     "data": {
      "text/plain": [
       "(x0, x1, x2, x3, x4)"
      ]
     },
     "execution_count": 215,
     "metadata": {},
     "output_type": "execute_result"
    }
   ],
   "source": [
    "symbols('x:5')"
   ]
  },
  {
   "cell_type": "code",
   "execution_count": 216,
   "metadata": {},
   "outputs": [
    {
     "data": {
      "text/plain": [
       "(x3, x4, x5, x6, x7, x8, x9, x10, x11)"
      ]
     },
     "execution_count": 216,
     "metadata": {},
     "output_type": "execute_result"
    }
   ],
   "source": [
    "symbols('x3:12')"
   ]
  },
  {
   "cell_type": "markdown",
   "metadata": {},
   "source": [
    "Lo importante de definir y trabar con símbolos es porque SymPy utiliza la sintaxis de Python y si nosotros no definimos como símbolo Python lo va a reconocer como una variable que no está definida y nos va a saltar un error, al definir los símbolos Python los reconoce como una variable aunque aún no se le defina un valor en concreto. \n",
    "\n",
    "A continuacion se muestra el ejemplo:\n"
   ]
  },
  {
   "cell_type": "code",
   "execution_count": 217,
   "metadata": {},
   "outputs": [
    {
     "data": {
      "text/latex": [
       "$\\displaystyle \\left(- \\sin^{2}{\\left(\\alpha \\right)} + \\cos^{2}{\\left(\\alpha \\right)}\\right)^{2}$"
      ],
      "text/plain": [
       "(-sin(alpha)**2 + cos(alpha)**2)**2"
      ]
     },
     "execution_count": 217,
     "metadata": {},
     "output_type": "execute_result"
    }
   ],
   "source": [
    "s**2"
   ]
  },
  {
   "cell_type": "code",
   "execution_count": 218,
   "metadata": {},
   "outputs": [],
   "source": [
    "s = symbols('S')"
   ]
  },
  {
   "cell_type": "code",
   "execution_count": 219,
   "metadata": {},
   "outputs": [
    {
     "data": {
      "text/latex": [
       "$\\displaystyle S^{2}$"
      ],
      "text/plain": [
       "S**2"
      ]
     },
     "execution_count": 219,
     "metadata": {},
     "output_type": "execute_result"
    }
   ],
   "source": [
    "s**2"
   ]
  },
  {
   "cell_type": "markdown",
   "metadata": {},
   "source": [
    "Al definir los símbolos también podemos trabajar operaciones aritméticas y SymPy va a simplificar los términos semejantes  "
   ]
  },
  {
   "cell_type": "code",
   "execution_count": 220,
   "metadata": {},
   "outputs": [
    {
     "data": {
      "text/latex": [
       "$\\displaystyle x^{2} + 2 y$"
      ],
      "text/plain": [
       "x**2 + 2*y"
      ]
     },
     "execution_count": 220,
     "metadata": {},
     "output_type": "execute_result"
    }
   ],
   "source": [
    "3*x**2 + 7*y + 2*x**2 + (-5*y) - 4*x**2"
   ]
  },
  {
   "cell_type": "code",
   "execution_count": null,
   "metadata": {},
   "outputs": [],
   "source": []
  },
  {
   "cell_type": "markdown",
   "metadata": {},
   "source": [
    "# Funciones"
   ]
  },
  {
   "cell_type": "markdown",
   "metadata": {},
   "source": [
    "En SymPy podemos usar y ejecutar funciones matemáticas y dado a que ya hemos creado símbolos antes podemos aplicarle funciones a nuestros símbolos de esta manera obtenemos una expresión resumida o resuelta pero de forma simbólica es decir que aún no evaluamos valores numéricos, prácticamente como si de cálculo teórico se tratase.\n",
    "\n",
    "Dentro de la creación de funciones al utilizar el lenguaje de python podemos definir funciones como previamente ya conocemos y SymPy va a trabajar con ellas sin problemas, además también podemos definir funciones simbólicas esto quiere decir que se expresa que es una función pero no se tiene que definir.\n",
    "\n"
   ]
  },
  {
   "cell_type": "code",
   "execution_count": 221,
   "metadata": {},
   "outputs": [],
   "source": [
    "f = Function('f')\n"
   ]
  },
  {
   "cell_type": "code",
   "execution_count": 222,
   "metadata": {},
   "outputs": [
    {
     "name": "stdout",
     "output_type": "stream",
     "text": [
      "<class 'sympy.core.function.UndefinedFunction'>\n"
     ]
    },
    {
     "data": {
      "text/latex": [
       "$\\displaystyle f{\\left(0 \\right)}$"
      ],
      "text/plain": [
       "f(0)"
      ]
     },
     "execution_count": 222,
     "metadata": {},
     "output_type": "execute_result"
    }
   ],
   "source": [
    "print(type(f))\n",
    "f(0)"
   ]
  },
  {
   "cell_type": "markdown",
   "metadata": {},
   "source": [
    "Aquí definimos una función utilizando el recurso de función anónima lambda que reciba de argumento a  ‘x’\n"
   ]
  },
  {
   "cell_type": "code",
   "execution_count": 223,
   "metadata": {},
   "outputs": [
    {
     "data": {
      "text/latex": [
       "$\\displaystyle x^{2} + 3 x - 21$"
      ],
      "text/plain": [
       "x**2 + 3*x - 21"
      ]
     },
     "execution_count": 223,
     "metadata": {},
     "output_type": "execute_result"
    }
   ],
   "source": [
    "g =lambda x: x**2 + 3*x - 21\n",
    "g(x)"
   ]
  },
  {
   "cell_type": "markdown",
   "metadata": {},
   "source": [
    "También podemos introducir otros símbolos  o variables matemáticas que ya hayamos definido antes "
   ]
  },
  {
   "cell_type": "code",
   "execution_count": 224,
   "metadata": {},
   "outputs": [
    {
     "data": {
      "text/latex": [
       "$\\displaystyle \\frac{x^{2} y^{4}}{9} + x y^{2} - 21$"
      ],
      "text/plain": [
       "x**2*y**4/9 + x*y**2 - 21"
      ]
     },
     "execution_count": 224,
     "metadata": {},
     "output_type": "execute_result"
    }
   ],
   "source": [
    "g(x*y**2/3)"
   ]
  },
  {
   "cell_type": "code",
   "execution_count": 225,
   "metadata": {},
   "outputs": [
    {
     "data": {
      "text/latex": [
       "$\\displaystyle 3 x^{2} + \\left(x^{2} + 3\\right)^{2} - 12$"
      ],
      "text/plain": [
       "3*x**2 + (x**2 + 3)**2 - 12"
      ]
     },
     "execution_count": 225,
     "metadata": {},
     "output_type": "execute_result"
    }
   ],
   "source": [
    "g(x**2 + 3)"
   ]
  },
  {
   "cell_type": "code",
   "execution_count": 226,
   "metadata": {},
   "outputs": [
    {
     "data": {
      "text/plain": [
       "-3"
      ]
     },
     "execution_count": 226,
     "metadata": {},
     "output_type": "execute_result"
    }
   ],
   "source": [
    "g(3)"
   ]
  },
  {
   "cell_type": "markdown",
   "metadata": {},
   "source": [
    "SymPy tiene dentro de su paquetería funciones como sin, cos, tan, pi, exp entre otras por esto mismo es que Sympy nos puede simplificar bastante el cálculo.\n",
    "\n",
    "\n",
    "\n"
   ]
  },
  {
   "cell_type": "code",
   "execution_count": 227,
   "metadata": {},
   "outputs": [
    {
     "data": {
      "text/latex": [
       "$\\displaystyle \\cos{\\left(e^{\\sin{\\left(x^{\\pi} \\right)}} \\right)}$"
      ],
      "text/plain": [
       "cos(exp(sin(x**pi)))"
      ]
     },
     "execution_count": 227,
     "metadata": {},
     "output_type": "execute_result"
    }
   ],
   "source": [
    "f = cos(exp(sin(x**pi)))\n",
    "f\n"
   ]
  },
  {
   "cell_type": "markdown",
   "metadata": {},
   "source": [
    "Dentro de SymPy podemos crear expresiones matemáticas solo usando la sintaxis de Python y con ellas ya podremos realizar el cálculo en SymPy "
   ]
  },
  {
   "cell_type": "markdown",
   "metadata": {},
   "source": [
    "# Manipulación de expresiones"
   ]
  },
  {
   "cell_type": "markdown",
   "metadata": {},
   "source": [
    "# Substitución"
   ]
  },
  {
   "cell_type": "markdown",
   "metadata": {},
   "source": [
    "Los objetos y expresiones de SymPy son inmutables. Transformarlos en realidad significa crear\n",
    "un nuevo objeto que difiere del inicial de alguna manera. La forma más directa de hacer esto es\n",
    "utilice el método .subs (). subs (antiguo, nuevo) devuelve una nueva expresión donde todos los\n",
    "las ocurrencias de antiguo en expr han sido reemplazadas por nuevas. Para reemplazar varias expresiones diferentes\n",
    "de una vez, también puede pasarlo como un solo argumento a un diccionario de los pares {antiguo: nuevo},\n",
    "como se muestra en el siguiente ejemplo:"
   ]
  },
  {
   "cell_type": "code",
   "execution_count": 228,
   "metadata": {},
   "outputs": [
    {
     "data": {
      "text/latex": [
       "$\\displaystyle e^{y} \\cos{\\left(x \\right)}$"
      ],
      "text/plain": [
       "exp(y)*cos(x)"
      ]
     },
     "execution_count": 228,
     "metadata": {},
     "output_type": "execute_result"
    }
   ],
   "source": [
    "x, y = symbols('x, y', real=True)\n",
    "f = lambda x, y:(cos(x) * exp(y))\n",
    "f(x, y)"
   ]
  },
  {
   "cell_type": "markdown",
   "metadata": {},
   "source": [
    "Si colocamos dentro de la función subs() un diccionario con los símbolos que deseamos sustituir podemos cambiar los varios valores a la vez"
   ]
  },
  {
   "cell_type": "code",
   "execution_count": 229,
   "metadata": {},
   "outputs": [
    {
     "data": {
      "text/latex": [
       "$\\displaystyle - e^{2}$"
      ],
      "text/plain": [
       "-exp(2)"
      ]
     },
     "execution_count": 229,
     "metadata": {},
     "output_type": "execute_result"
    }
   ],
   "source": [
    "f(x,y).subs({x: pi, y: 2})"
   ]
  },
  {
   "cell_type": "code",
   "execution_count": 230,
   "metadata": {},
   "outputs": [
    {
     "data": {
      "text/latex": [
       "$\\displaystyle \\frac{e^{x + 1}}{x^{2} - 2}$"
      ],
      "text/plain": [
       "exp(x + 1)/(x**2 - 2)"
      ]
     },
     "execution_count": 230,
     "metadata": {},
     "output_type": "execute_result"
    }
   ],
   "source": [
    "funcion = exp(x+1)/(x**2-2)\n",
    "funcion\n"
   ]
  },
  {
   "cell_type": "markdown",
   "metadata": {},
   "source": [
    "A continuación tenemos un ejemplo de como sympy con el métodos .subs() puede cambiar de símbolos que son variables complejas a valores u otras variables "
   ]
  },
  {
   "cell_type": "code",
   "execution_count": 231,
   "metadata": {},
   "outputs": [
    {
     "data": {
      "text/latex": [
       "$\\displaystyle \\frac{e^{3}}{2}$"
      ],
      "text/plain": [
       "exp(3)/2"
      ]
     },
     "execution_count": 231,
     "metadata": {},
     "output_type": "execute_result"
    }
   ],
   "source": [
    "funcion.subs(x,2)"
   ]
  },
  {
   "cell_type": "markdown",
   "metadata": {},
   "source": [
    "# Simplificación "
   ]
  },
  {
   "cell_type": "markdown",
   "metadata": {},
   "source": [
    "Simplificación\n",
    "Cuando tienes una expresión simbólica, una necesidad común es ponerla en una forma más corta o que\n",
    "es más fácil de entender. Casi siempre es más conveniente tratar con 1 que con $cos (x^2)\n",
    "+ sin (x^2)$. Aquí es donde entra en uso la función simplify ().\n",
    "simplify () aplica una combinación heurística de algoritmos de simplificación. Puede usar\n",
    "relaciones trigonométricas, aplicar propiedades de logaritmos y exponenciales, simplificar fracciones\n",
    "y raíces cuadradas, etc. En todas estas operaciones, se tienen en cuenta las propiedades de\n",
    "los objetos, particularmente is_positive e is_real, como se muestra en el siguiente ejemplo:"
   ]
  },
  {
   "cell_type": "code",
   "execution_count": 232,
   "metadata": {},
   "outputs": [
    {
     "data": {
      "text/latex": [
       "$\\displaystyle \\sin^{2}{\\left(x \\right)} + \\cos^{2}{\\left(x \\right)}$"
      ],
      "text/plain": [
       "sin(x)**2 + cos(x)**2"
      ]
     },
     "execution_count": 232,
     "metadata": {},
     "output_type": "execute_result"
    }
   ],
   "source": [
    "f = cos(x)**2 + sin(x)**2\n",
    "f\n"
   ]
  },
  {
   "cell_type": "markdown",
   "metadata": {},
   "source": [
    "La función simplify() de sympy puede reconocer identidades trigonométricas y simplificarlas a la expresión más sencilla aquí unos ejemplos. "
   ]
  },
  {
   "cell_type": "code",
   "execution_count": 233,
   "metadata": {},
   "outputs": [
    {
     "data": {
      "text/latex": [
       "$\\displaystyle 1$"
      ],
      "text/plain": [
       "1"
      ]
     },
     "execution_count": 233,
     "metadata": {},
     "output_type": "execute_result"
    }
   ],
   "source": [
    "simplify(f)"
   ]
  },
  {
   "cell_type": "code",
   "execution_count": 234,
   "metadata": {},
   "outputs": [
    {
     "data": {
      "text/latex": [
       "$\\displaystyle \\alpha$"
      ],
      "text/plain": [
       "alpha"
      ]
     },
     "execution_count": 234,
     "metadata": {},
     "output_type": "execute_result"
    }
   ],
   "source": [
    "alpha = symbols('alpha')\n",
    "alpha\n"
   ]
  },
  {
   "cell_type": "markdown",
   "metadata": {},
   "source": [
    "Fórmulas de doble ángulo "
   ]
  },
  {
   "cell_type": "code",
   "execution_count": 235,
   "metadata": {},
   "outputs": [
    {
     "data": {
      "text/latex": [
       "$\\displaystyle - \\sin^{2}{\\left(\\alpha \\right)} + \\cos^{2}{\\left(\\alpha \\right)}$"
      ],
      "text/plain": [
       "-sin(alpha)**2 + cos(alpha)**2"
      ]
     },
     "execution_count": 235,
     "metadata": {},
     "output_type": "execute_result"
    }
   ],
   "source": [
    "s = cos(alpha)**2 - sin(alpha)**2\n",
    "s"
   ]
  },
  {
   "cell_type": "code",
   "execution_count": 236,
   "metadata": {},
   "outputs": [
    {
     "data": {
      "text/latex": [
       "$\\displaystyle \\cos{\\left(2 \\alpha \\right)}$"
      ],
      "text/plain": [
       "cos(2*alpha)"
      ]
     },
     "execution_count": 236,
     "metadata": {},
     "output_type": "execute_result"
    }
   ],
   "source": [
    "simplify(s)"
   ]
  },
  {
   "cell_type": "markdown",
   "metadata": {},
   "source": [
    "Identidades de productos "
   ]
  },
  {
   "cell_type": "code",
   "execution_count": 237,
   "metadata": {},
   "outputs": [
    {
     "data": {
      "text/latex": [
       "$\\displaystyle \\sin{\\left(\\alpha \\right)} \\cos{\\left(\\alpha \\right)}$"
      ],
      "text/plain": [
       "sin(alpha)*cos(alpha)"
      ]
     },
     "execution_count": 237,
     "metadata": {},
     "output_type": "execute_result"
    }
   ],
   "source": [
    "d = sin(alpha)*cos(alpha)\n",
    "d"
   ]
  },
  {
   "cell_type": "code",
   "execution_count": 238,
   "metadata": {},
   "outputs": [
    {
     "data": {
      "text/latex": [
       "$\\displaystyle \\frac{\\sin{\\left(2 \\alpha \\right)}}{2}$"
      ],
      "text/plain": [
       "sin(2*alpha)/2"
      ]
     },
     "execution_count": 238,
     "metadata": {},
     "output_type": "execute_result"
    }
   ],
   "source": [
    "simplify(d)"
   ]
  },
  {
   "cell_type": "markdown",
   "metadata": {},
   "source": [
    "Identidades fundamentales "
   ]
  },
  {
   "cell_type": "code",
   "execution_count": 239,
   "metadata": {},
   "outputs": [
    {
     "data": {
      "text/latex": [
       "$\\displaystyle \\frac{\\sin{\\left(\\alpha \\right)}}{\\cos{\\left(\\alpha \\right)}}$"
      ],
      "text/plain": [
       "sin(alpha)/cos(alpha)"
      ]
     },
     "execution_count": 239,
     "metadata": {},
     "output_type": "execute_result"
    }
   ],
   "source": [
    "t = sin(alpha)/cos(alpha)\n",
    "t"
   ]
  },
  {
   "cell_type": "code",
   "execution_count": 240,
   "metadata": {},
   "outputs": [
    {
     "data": {
      "text/latex": [
       "$\\displaystyle \\tan{\\left(\\alpha \\right)}$"
      ],
      "text/plain": [
       "tan(alpha)"
      ]
     },
     "execution_count": 240,
     "metadata": {},
     "output_type": "execute_result"
    }
   ],
   "source": [
    "simplify(t)"
   ]
  },
  {
   "cell_type": "markdown",
   "metadata": {},
   "source": [
    "Logaritmos y exponeciales"
   ]
  },
  {
   "cell_type": "code",
   "execution_count": 241,
   "metadata": {},
   "outputs": [
    {
     "data": {
      "text/latex": [
       "$\\displaystyle \\cos{\\left(\\log{\\left(a^{2} \\right)} \\right)} \\tan{\\left(\\log{\\left(a^{2} \\right)} \\right)}$"
      ],
      "text/plain": [
       "cos(log(a**2))*tan(log(a**2))"
      ]
     },
     "execution_count": 241,
     "metadata": {},
     "output_type": "execute_result"
    }
   ],
   "source": [
    "c = (cos(log(a**2))*tan(log(a**2)))\n",
    "c"
   ]
  },
  {
   "cell_type": "code",
   "execution_count": 242,
   "metadata": {},
   "outputs": [
    {
     "data": {
      "text/latex": [
       "$\\displaystyle \\sin{\\left(2 \\log{\\left(a \\right)} \\right)}$"
      ],
      "text/plain": [
       "sin(2*log(a))"
      ]
     },
     "execution_count": 242,
     "metadata": {},
     "output_type": "execute_result"
    }
   ],
   "source": [
    "simplify(c)"
   ]
  },
  {
   "cell_type": "markdown",
   "metadata": {},
   "source": [
    "Aquí hay una lista de los más útiles (hay más en el módulo sympy.simplify):\n",
    "+ radsimp (): esto simplifica expresiones con raíces cuadradas\n",
    "+ trigsimp (): esto simplifica combinaciones de funciones trigonométricas\n",
    "+ cancel (): Esto elimina los factores comunes entre el numerador y el denominador de una fracción\n",
    "+ together (): Esto coloca las sumas de una fracción sobre el mismo denominador\n",
    "+ apart (): esto aplica la descomposición de fracciones parciales\n",
    "\n",
    "Aunque hay que aclarar que la función simplify() engloba todas estas, pero en caso de que solo se busque simplificar una en específico se pueden utilizar estas variantes que solo simplificaran la parte de la expresión que les corresponde. "
   ]
  },
  {
   "cell_type": "markdown",
   "metadata": {},
   "source": [
    "Raíz cuadrada"
   ]
  },
  {
   "cell_type": "code",
   "execution_count": 243,
   "metadata": {},
   "outputs": [
    {
     "data": {
      "text/latex": [
       "$\\displaystyle \\frac{1}{-2 + \\sqrt{5}}$"
      ],
      "text/plain": [
       "1/(-2 + sqrt(5))"
      ]
     },
     "execution_count": 243,
     "metadata": {},
     "output_type": "execute_result"
    }
   ],
   "source": [
    "raiz = 1/(sqrt(5) - 2)\n",
    "raiz"
   ]
  },
  {
   "cell_type": "code",
   "execution_count": 244,
   "metadata": {},
   "outputs": [
    {
     "data": {
      "text/latex": [
       "$\\displaystyle 2 + \\sqrt{5}$"
      ],
      "text/plain": [
       "2 + sqrt(5)"
      ]
     },
     "execution_count": 244,
     "metadata": {},
     "output_type": "execute_result"
    }
   ],
   "source": [
    "radsimp(raiz)"
   ]
  },
  {
   "cell_type": "markdown",
   "metadata": {},
   "source": [
    "Identidades trigonometricas"
   ]
  },
  {
   "cell_type": "code",
   "execution_count": 245,
   "metadata": {},
   "outputs": [
    {
     "data": {
      "text/latex": [
       "$\\displaystyle \\sin^{2}{\\left(x \\right)} + \\cos^{2}{\\left(x \\right)}$"
      ],
      "text/plain": [
       "sin(x)**2 + cos(x)**2"
      ]
     },
     "execution_count": 245,
     "metadata": {},
     "output_type": "execute_result"
    }
   ],
   "source": [
    "trigo = (sin(x)**2 + cos(x)**2)\n",
    "trigo"
   ]
  },
  {
   "cell_type": "code",
   "execution_count": 246,
   "metadata": {},
   "outputs": [
    {
     "data": {
      "text/latex": [
       "$\\displaystyle 1$"
      ],
      "text/plain": [
       "1"
      ]
     },
     "execution_count": 246,
     "metadata": {},
     "output_type": "execute_result"
    }
   ],
   "source": [
    "trigsimp(trigo)"
   ]
  },
  {
   "cell_type": "markdown",
   "metadata": {},
   "source": [
    "Factores comunes"
   ]
  },
  {
   "cell_type": "code",
   "execution_count": 247,
   "metadata": {},
   "outputs": [
    {
     "data": {
      "text/latex": [
       "$\\displaystyle \\frac{x^{2} - 1}{x - 1}$"
      ],
      "text/plain": [
       "(x**2 - 1)/(x - 1)"
      ]
     },
     "execution_count": 247,
     "metadata": {},
     "output_type": "execute_result"
    }
   ],
   "source": [
    "factor_comun =((x**2 - 1)/(x - 1))\n",
    "factor_comun"
   ]
  },
  {
   "cell_type": "code",
   "execution_count": 248,
   "metadata": {},
   "outputs": [
    {
     "data": {
      "text/latex": [
       "$\\displaystyle x + 1$"
      ],
      "text/plain": [
       "x + 1"
      ]
     },
     "execution_count": 248,
     "metadata": {},
     "output_type": "execute_result"
    }
   ],
   "source": [
    "cancel(factor_comun)"
   ]
  },
  {
   "cell_type": "markdown",
   "metadata": {},
   "source": [
    "Suma de fracciones"
   ]
  },
  {
   "cell_type": "code",
   "execution_count": 249,
   "metadata": {},
   "outputs": [
    {
     "data": {
      "text/latex": [
       "$\\displaystyle - \\frac{1}{x + 1} + \\frac{1}{x - 1}$"
      ],
      "text/plain": [
       "-1/(x + 1) + 1/(x - 1)"
      ]
     },
     "execution_count": 249,
     "metadata": {},
     "output_type": "execute_result"
    }
   ],
   "source": [
    "sum_frac = (1/(x-1) - 1/(x+1))\n",
    "sum_frac"
   ]
  },
  {
   "cell_type": "code",
   "execution_count": 250,
   "metadata": {},
   "outputs": [
    {
     "data": {
      "text/latex": [
       "$\\displaystyle \\frac{2}{\\left(x - 1\\right) \\left(x + 1\\right)}$"
      ],
      "text/plain": [
       "2/((x - 1)*(x + 1))"
      ]
     },
     "execution_count": 250,
     "metadata": {},
     "output_type": "execute_result"
    }
   ],
   "source": [
    "together(sum_frac)"
   ]
  },
  {
   "cell_type": "markdown",
   "metadata": {},
   "source": [
    "fracciones parciales"
   ]
  },
  {
   "cell_type": "code",
   "execution_count": 251,
   "metadata": {},
   "outputs": [
    {
     "data": {
      "text/latex": [
       "$\\displaystyle \\frac{2}{x^{2} - 1}$"
      ],
      "text/plain": [
       "2/(x**2 - 1)"
      ]
     },
     "execution_count": 251,
     "metadata": {},
     "output_type": "execute_result"
    }
   ],
   "source": [
    "frac_parciales = (2/(x**2 - 1))\n",
    "frac_parciales"
   ]
  },
  {
   "cell_type": "code",
   "execution_count": 252,
   "metadata": {},
   "outputs": [
    {
     "data": {
      "text/latex": [
       "$\\displaystyle - \\frac{1}{x + 1} + \\frac{1}{x - 1}$"
      ],
      "text/plain": [
       "-1/(x + 1) + 1/(x - 1)"
      ]
     },
     "execution_count": 252,
     "metadata": {},
     "output_type": "execute_result"
    }
   ],
   "source": [
    "apart(frac_parciales)"
   ]
  },
  {
   "cell_type": "markdown",
   "metadata": {},
   "source": [
    "Si tenemos alguna expresión que sympy pueda simplificar y usamos el método simplify() va a simplificar todo o que encuentre.\n",
    "\n"
   ]
  },
  {
   "cell_type": "markdown",
   "metadata": {},
   "source": [
    "# Evaluación númerica"
   ]
  },
  {
   "cell_type": "markdown",
   "metadata": {},
   "source": [
    "\n",
    "La evaluación numérica sirve para obtener resultados numéricos para las expresiones simbólicas o para las funciones que hemos creado, el método de evaluación numérica nos va a definir la expresión en valores reales numéricos eso quiere decir que deja de ser simbólico el cálculo y la función para evaluar numéricamente es N() que recibe la expresión o función como primer argumento y como segundo recibe las el número de cifras de precisión \n",
    "\n"
   ]
  },
  {
   "cell_type": "code",
   "execution_count": 253,
   "metadata": {},
   "outputs": [],
   "source": [
    "#f = lambda x: cos(x)"
   ]
  },
  {
   "cell_type": "code",
   "execution_count": 324,
   "metadata": {},
   "outputs": [
    {
     "data": {
      "text/latex": [
       "$\\displaystyle \\pi$"
      ],
      "text/plain": [
       "pi"
      ]
     },
     "execution_count": 324,
     "metadata": {},
     "output_type": "execute_result"
    }
   ],
   "source": [
    "pi"
   ]
  },
  {
   "cell_type": "code",
   "execution_count": 325,
   "metadata": {},
   "outputs": [
    {
     "data": {
      "text/latex": [
       "$\\displaystyle 3.141592653589793238462643383279502884197169399375105820974944592307816406286208998628034825342117068$"
      ],
      "text/plain": [
       "3.141592653589793238462643383279502884197169399375105820974944592307816406286208998628034825342117068"
      ]
     },
     "execution_count": 325,
     "metadata": {},
     "output_type": "execute_result"
    }
   ],
   "source": [
    "N(pi, 100)"
   ]
  },
  {
   "cell_type": "markdown",
   "metadata": {},
   "source": [
    "Aquí tenemos una expresión compleja que al correr la celda nos entrega la expresión pero de manera simbólica "
   ]
  },
  {
   "cell_type": "code",
   "execution_count": 256,
   "metadata": {},
   "outputs": [
    {
     "data": {
      "text/latex": [
       "$\\displaystyle e^{\\sqrt{163} \\pi}$"
      ],
      "text/plain": [
       "exp(sqrt(163)*pi)"
      ]
     },
     "execution_count": 256,
     "metadata": {},
     "output_type": "execute_result"
    }
   ],
   "source": [
    "(exp(pi*sqrt(163)))"
   ]
  },
  {
   "cell_type": "markdown",
   "metadata": {},
   "source": [
    "\n",
    "Aquí podemos ver una expresion que como resultado va a dar un numero flotante y para ello podemos agregar a la función N() un segundo argumento que nos de el número de digitos de precisión del resultado "
   ]
  },
  {
   "cell_type": "code",
   "execution_count": 257,
   "metadata": {
    "scrolled": true
   },
   "outputs": [
    {
     "data": {
      "text/latex": [
       "$\\displaystyle 262537412640768743.99999999999925007259719818568888$"
      ],
      "text/plain": [
       "262537412640768743.99999999999925007259719818568888"
      ]
     },
     "execution_count": 257,
     "metadata": {},
     "output_type": "execute_result"
    }
   ],
   "source": [
    "N(exp(pi*sqrt(163)), 50)"
   ]
  },
  {
   "cell_type": "code",
   "execution_count": 258,
   "metadata": {},
   "outputs": [
    {
     "data": {
      "text/plain": [
       "51"
      ]
     },
     "execution_count": 258,
     "metadata": {},
     "output_type": "execute_result"
    }
   ],
   "source": [
    "len('262537412640768743.99999999999925007259719818568888')"
   ]
  },
  {
   "cell_type": "markdown",
   "metadata": {},
   "source": [
    "Aquí comprobamos la longitud de la cifra y nos da 51 pero phyton cuenta el punto como elemento por ello da 51 – 1 = 50 cifras de precisión  "
   ]
  },
  {
   "cell_type": "markdown",
   "metadata": {},
   "source": [
    "# Calcúlo con SymPy"
   ]
  },
  {
   "cell_type": "markdown",
   "metadata": {},
   "source": [
    "La principal aplicación de SymPy es que puede realizar calculo computacional, anterior mente ya definimos que es el cálculo simbólico, creamos símbolos y funciones además vimos cómo se manipulan y ejecutan. \n",
    "\n",
    "Ahora toca ver como son las funciones que SymPy nos ofrece en el apartado del cálculo matemático y como es que se ejecutan \n"
   ]
  },
  {
   "cell_type": "markdown",
   "metadata": {},
   "source": [
    "# Derivadas"
   ]
  },
  {
   "cell_type": "markdown",
   "metadata": {},
   "source": [
    "Para realizar el cálculo de una derivada de una función tenemos el método diff()  este método recibe de argumento a la función o expresión como primer argumento, el símbolo o variable con respecto a al cual se quiere derivar y como último argumento al número u orden al cual se quiere derivar en caso de no poner este ultimo la función va a entregar la primer derivada. "
   ]
  },
  {
   "cell_type": "code",
   "execution_count": 259,
   "metadata": {},
   "outputs": [],
   "source": [
    "f = Function('f')"
   ]
  },
  {
   "cell_type": "code",
   "execution_count": 260,
   "metadata": {},
   "outputs": [
    {
     "data": {
      "text/latex": [
       "$\\displaystyle \\frac{d}{d x} f{\\left(x \\right)}$"
      ],
      "text/plain": [
       "Derivative(f(x), x)"
      ]
     },
     "execution_count": 260,
     "metadata": {},
     "output_type": "execute_result"
    }
   ],
   "source": [
    "diff(f(x))"
   ]
  },
  {
   "cell_type": "code",
   "execution_count": 261,
   "metadata": {},
   "outputs": [
    {
     "data": {
      "text/latex": [
       "$\\displaystyle x^{3} + 3 x^{2} + 2 x + 11$"
      ],
      "text/plain": [
       "x**3 + 3*x**2 + 2*x + 11"
      ]
     },
     "execution_count": 261,
     "metadata": {},
     "output_type": "execute_result"
    }
   ],
   "source": [
    "f = x**3 + 3*x**2 + 2*x + 11\n",
    "f"
   ]
  },
  {
   "cell_type": "code",
   "execution_count": 262,
   "metadata": {},
   "outputs": [
    {
     "data": {
      "text/latex": [
       "$\\displaystyle 3 x^{2} + 6 x + 2$"
      ],
      "text/plain": [
       "3*x**2 + 6*x + 2"
      ]
     },
     "execution_count": 262,
     "metadata": {},
     "output_type": "execute_result"
    }
   ],
   "source": [
    "diff(f, x)"
   ]
  },
  {
   "cell_type": "markdown",
   "metadata": {},
   "source": [
    "Aquí obtenermos la tercera derivada de la función con respecto a 'x'"
   ]
  },
  {
   "cell_type": "code",
   "execution_count": 263,
   "metadata": {},
   "outputs": [
    {
     "data": {
      "text/latex": [
       "$\\displaystyle 6$"
      ],
      "text/plain": [
       "6"
      ]
     },
     "execution_count": 263,
     "metadata": {},
     "output_type": "execute_result"
    }
   ],
   "source": [
    "diff(f,x,3)"
   ]
  },
  {
   "cell_type": "markdown",
   "metadata": {},
   "source": [
    "Cuando se tienen más de una variable en la función solo hay que especificar con respecto a que se quiere derivar, si lo que queremos es derivar con respecto a más de una variable solo introducimos en la función diff() la función seguido de la variable y después el número de veces que se quiere derivar con respecto a esta variable para después introducir la siguiente variable seguido del numero.\n",
    "\n",
    "A contiuacion un ejemplo:"
   ]
  },
  {
   "cell_type": "code",
   "execution_count": 264,
   "metadata": {},
   "outputs": [
    {
     "data": {
      "text/latex": [
       "$\\displaystyle x^{2} y^{2}$"
      ],
      "text/plain": [
       "x**2*y**2"
      ]
     },
     "execution_count": 264,
     "metadata": {},
     "output_type": "execute_result"
    }
   ],
   "source": [
    "f = x**2 * y**2\n",
    "f"
   ]
  },
  {
   "cell_type": "code",
   "execution_count": 265,
   "metadata": {},
   "outputs": [
    {
     "data": {
      "text/latex": [
       "$\\displaystyle 4$"
      ],
      "text/plain": [
       "4"
      ]
     },
     "execution_count": 265,
     "metadata": {},
     "output_type": "execute_result"
    }
   ],
   "source": [
    "diff(f, x, 2, y, 2)"
   ]
  },
  {
   "cell_type": "code",
   "execution_count": 266,
   "metadata": {},
   "outputs": [
    {
     "data": {
      "text/latex": [
       "$\\displaystyle x^{4} - x^{3} y^{2} + \\sin{\\left(y \\right)}$"
      ],
      "text/plain": [
       "x**4 - x**3*y**2 + sin(y)"
      ]
     },
     "execution_count": 266,
     "metadata": {},
     "output_type": "execute_result"
    }
   ],
   "source": [
    "f = x**4 + sin(y) - x**3*y**2\n",
    "f"
   ]
  },
  {
   "cell_type": "code",
   "execution_count": 267,
   "metadata": {},
   "outputs": [
    {
     "data": {
      "text/latex": [
       "$\\displaystyle - 12 y$"
      ],
      "text/plain": [
       "-12*y"
      ]
     },
     "execution_count": 267,
     "metadata": {},
     "output_type": "execute_result"
    }
   ],
   "source": [
    "diff(f, x, 3, y, 1)"
   ]
  },
  {
   "cell_type": "code",
   "execution_count": 268,
   "metadata": {},
   "outputs": [
    {
     "data": {
      "text/latex": [
       "$\\displaystyle e^{x y z}$"
      ],
      "text/plain": [
       "exp(x*y*z)"
      ]
     },
     "execution_count": 268,
     "metadata": {},
     "output_type": "execute_result"
    }
   ],
   "source": [
    "f = exp(x*y*z)\n",
    "f"
   ]
  },
  {
   "cell_type": "markdown",
   "metadata": {},
   "source": [
    "En caso de que solo queramos expresar la derivada sin evaluar tenemos el método Derivative()\n",
    "\n"
   ]
  },
  {
   "cell_type": "code",
   "execution_count": 269,
   "metadata": {},
   "outputs": [
    {
     "data": {
      "text/latex": [
       "$\\displaystyle \\frac{\\partial^{7}}{\\partial z^{4}\\partial x\\partial y\\partial x} e^{x y z}$"
      ],
      "text/plain": [
       "Derivative(exp(x*y*z), x, y, x, (z, 4))"
      ]
     },
     "execution_count": 269,
     "metadata": {},
     "output_type": "execute_result"
    }
   ],
   "source": [
    "deriv = Derivative(f, x, y, x, z, 4)\n",
    "deriv"
   ]
  },
  {
   "cell_type": "markdown",
   "metadata": {},
   "source": [
    "\n",
    "Para evaluar una derivada no evaluada, use el método .doit()\n",
    "\n"
   ]
  },
  {
   "cell_type": "code",
   "execution_count": 270,
   "metadata": {},
   "outputs": [
    {
     "data": {
      "text/latex": [
       "$\\displaystyle x^{2} y^{3} \\left(x^{3} y^{3} z^{3} + 14 x^{2} y^{2} z^{2} + 52 x y z + 48\\right) e^{x y z}$"
      ],
      "text/plain": [
       "x**2*y**3*(x**3*y**3*z**3 + 14*x**2*y**2*z**2 + 52*x*y*z + 48)*exp(x*y*z)"
      ]
     },
     "execution_count": 270,
     "metadata": {},
     "output_type": "execute_result"
    }
   ],
   "source": [
    "deriv.doit()"
   ]
  },
  {
   "cell_type": "markdown",
   "metadata": {},
   "source": [
    "# Integrales "
   ]
  },
  {
   "cell_type": "markdown",
   "metadata": {},
   "source": [
    "SymPy tiene potentes algoritmos de integración y, en particular, puede encontrar la mayoría de integrales\n",
    "de funciones logarítmicas y exponenciales expresables con funciones especiales, y muchas más\n",
    "\n",
    "Para calcular una integral, use la función de integrate(). Hay dos tipos de integrales, definidas e indefinidas. Para calcular una integral indefinida, es decir, una antiderivada o función primitiva, simplemente pase la variable después de la expresión.\n",
    "\n",
    "\n",
    "Tenga en cuenta que SymPy no incluye la constante de integración."
   ]
  },
  {
   "cell_type": "code",
   "execution_count": 271,
   "metadata": {},
   "outputs": [
    {
     "data": {
      "text/latex": [
       "$\\displaystyle x + \\cos{\\left(x \\right)}$"
      ],
      "text/plain": [
       "x + cos(x)"
      ]
     },
     "execution_count": 271,
     "metadata": {},
     "output_type": "execute_result"
    }
   ],
   "source": [
    "f = cos(x) + (x)\n",
    "f"
   ]
  },
  {
   "cell_type": "code",
   "execution_count": 272,
   "metadata": {},
   "outputs": [
    {
     "data": {
      "text/latex": [
       "$\\displaystyle \\frac{x^{2}}{2} + \\sin{\\left(x \\right)}$"
      ],
      "text/plain": [
       "x**2/2 + sin(x)"
      ]
     },
     "execution_count": 272,
     "metadata": {},
     "output_type": "execute_result"
    }
   ],
   "source": [
    "integrate(f)"
   ]
  },
  {
   "cell_type": "markdown",
   "metadata": {},
   "source": [
    "En el caso de que la integral sea definida solo tenemos que agregar los límites de integración. Para calcular una integral definida, pase el argumento (variable_integración, límite_inferior, límite_superior). \n",
    "\n",
    "Ejemplo:\n"
   ]
  },
  {
   "cell_type": "code",
   "execution_count": 273,
   "metadata": {},
   "outputs": [
    {
     "data": {
      "text/latex": [
       "$\\displaystyle 2 \\sqrt{x - 1}$"
      ],
      "text/plain": [
       "2*sqrt(x - 1)"
      ]
     },
     "execution_count": 273,
     "metadata": {},
     "output_type": "execute_result"
    }
   ],
   "source": [
    "f = 2*sqrt(x -1)\n",
    "f"
   ]
  },
  {
   "cell_type": "code",
   "execution_count": 274,
   "metadata": {},
   "outputs": [
    {
     "data": {
      "text/latex": [
       "$\\displaystyle \\frac{8 \\sqrt{2}}{3}$"
      ],
      "text/plain": [
       "8*sqrt(2)/3"
      ]
     },
     "execution_count": 274,
     "metadata": {},
     "output_type": "execute_result"
    }
   ],
   "source": [
    "integrate(f,(x, 1, 3))"
   ]
  },
  {
   "cell_type": "code",
   "execution_count": 275,
   "metadata": {},
   "outputs": [
    {
     "data": {
      "text/latex": [
       "$\\displaystyle e^{- x}$"
      ],
      "text/plain": [
       "exp(-x)"
      ]
     },
     "execution_count": 275,
     "metadata": {},
     "output_type": "execute_result"
    }
   ],
   "source": [
    "f = exp(-x)\n",
    "f"
   ]
  },
  {
   "cell_type": "code",
   "execution_count": 276,
   "metadata": {},
   "outputs": [
    {
     "data": {
      "text/latex": [
       "$\\displaystyle 1$"
      ],
      "text/plain": [
       "1"
      ]
     },
     "execution_count": 276,
     "metadata": {},
     "output_type": "execute_result"
    }
   ],
   "source": [
    "integrate(f,(x, 0, oo))\n"
   ]
  },
  {
   "cell_type": "markdown",
   "metadata": {},
   "source": [
    "Las integrales simbólicas y las antiderivadas no evaluadas están representadas por la clase Integral.\n",
    "integrar () puede devolver estos objetos si no puede calcular la integral.\n",
    "\n",
    "El método Integral() puede devolver estos objetos si no puede calcular la integral, nos devuelve la integral simbólica o no evaluada "
   ]
  },
  {
   "cell_type": "code",
   "execution_count": 277,
   "metadata": {},
   "outputs": [
    {
     "data": {
      "text/latex": [
       "$\\displaystyle \\int\\limits_{0}^{\\pi} \\sin{\\left(x \\right)}\\, dx$"
      ],
      "text/plain": [
       "Integral(sin(x), (x, 0, pi))"
      ]
     },
     "execution_count": 277,
     "metadata": {},
     "output_type": "execute_result"
    }
   ],
   "source": [
    "intg = Integral(sin(x), (x, 0, pi))\n",
    "intg"
   ]
  },
  {
   "cell_type": "markdown",
   "metadata": {},
   "source": [
    "De igual manera que la derivada no evaluada tenemos que para evaluar una integral podemos utilizar el método .doit()\n",
    "\n"
   ]
  },
  {
   "cell_type": "code",
   "execution_count": 278,
   "metadata": {},
   "outputs": [
    {
     "data": {
      "text/latex": [
       "$\\displaystyle 2$"
      ],
      "text/plain": [
       "2"
      ]
     },
     "execution_count": 278,
     "metadata": {},
     "output_type": "execute_result"
    }
   ],
   "source": [
    "intg.doit()"
   ]
  },
  {
   "cell_type": "markdown",
   "metadata": {},
   "source": [
    "# Límites "
   ]
  },
  {
   "cell_type": "markdown",
   "metadata": {},
   "source": [
    "Los límites de una función en SymPy se obtienen con el método limit() que recibe como argumentos a la función a evaluar, la variable y el valor hacia el cual va a la tendencia del limite\n",
    "\n",
    "ejemplo:\n"
   ]
  },
  {
   "cell_type": "code",
   "execution_count": 279,
   "metadata": {},
   "outputs": [
    {
     "data": {
      "text/latex": [
       "$\\displaystyle \\frac{3 - x}{x^{2} - 2 x - 8}$"
      ],
      "text/plain": [
       "(3 - x)/(x**2 - 2*x - 8)"
      ]
     },
     "execution_count": 279,
     "metadata": {},
     "output_type": "execute_result"
    }
   ],
   "source": [
    "f = (3-x)/(x**2 - 2*x - 8)\n",
    "f"
   ]
  },
  {
   "cell_type": "code",
   "execution_count": 280,
   "metadata": {},
   "outputs": [
    {
     "data": {
      "text/latex": [
       "$\\displaystyle -\\infty$"
      ],
      "text/plain": [
       "-oo"
      ]
     },
     "execution_count": 280,
     "metadata": {},
     "output_type": "execute_result"
    }
   ],
   "source": [
    "limit(f, x, 4)"
   ]
  },
  {
   "cell_type": "code",
   "execution_count": 281,
   "metadata": {},
   "outputs": [
    {
     "data": {
      "text/latex": [
       "$\\displaystyle \\frac{x - 9}{\\sqrt{x} - 3}$"
      ],
      "text/plain": [
       "(x - 9)/(sqrt(x) - 3)"
      ]
     },
     "execution_count": 281,
     "metadata": {},
     "output_type": "execute_result"
    }
   ],
   "source": [
    "f = (x - 9)/(sqrt(x) - 3)\n",
    "f"
   ]
  },
  {
   "cell_type": "code",
   "execution_count": 282,
   "metadata": {},
   "outputs": [
    {
     "data": {
      "text/latex": [
       "$\\displaystyle - \\frac{3}{-3 + \\sqrt{6}}$"
      ],
      "text/plain": [
       "-3/(-3 + sqrt(6))"
      ]
     },
     "execution_count": 282,
     "metadata": {},
     "output_type": "execute_result"
    }
   ],
   "source": [
    "limit(f, x, 6)"
   ]
  },
  {
   "cell_type": "code",
   "execution_count": 283,
   "metadata": {},
   "outputs": [
    {
     "data": {
      "text/latex": [
       "$\\displaystyle \\sqrt{6} + 3$"
      ],
      "text/plain": [
       "sqrt(6) + 3"
      ]
     },
     "execution_count": 283,
     "metadata": {},
     "output_type": "execute_result"
    }
   ],
   "source": [
    "simplify(limit(f, x, 6))"
   ]
  },
  {
   "cell_type": "code",
   "execution_count": 284,
   "metadata": {},
   "outputs": [
    {
     "data": {
      "text/latex": [
       "$\\displaystyle 5.449489743$"
      ],
      "text/plain": [
       "5.449489743"
      ]
     },
     "execution_count": 284,
     "metadata": {},
     "output_type": "execute_result"
    }
   ],
   "source": [
    "N(simplify(limit(f, x, 6)),10)"
   ]
  },
  {
   "cell_type": "markdown",
   "metadata": {},
   "source": [
    "limites cuanado x tiende a infinito, para definir limites a infinito solo tenemos que colocar a infinito en el tercer argumento que recibe la función y en SymPy el infinito se representa como una doble ‘o’ (oo) y en el caso en donde el valor tienda a menos infinito solo se agrega un – antes (-oo).\n",
    "\n",
    " \n"
   ]
  },
  {
   "cell_type": "code",
   "execution_count": 285,
   "metadata": {},
   "outputs": [
    {
     "data": {
      "text/latex": [
       "$\\displaystyle \\frac{3 x + 1}{2 x - 3}$"
      ],
      "text/plain": [
       "(3*x + 1)/(2*x - 3)"
      ]
     },
     "execution_count": 285,
     "metadata": {},
     "output_type": "execute_result"
    }
   ],
   "source": [
    "f = (3*x + 1)/(2*x - 3)\n",
    "f"
   ]
  },
  {
   "cell_type": "code",
   "execution_count": 286,
   "metadata": {},
   "outputs": [
    {
     "data": {
      "text/latex": [
       "$\\displaystyle \\frac{3}{2}$"
      ],
      "text/plain": [
       "3/2"
      ]
     },
     "execution_count": 286,
     "metadata": {},
     "output_type": "execute_result"
    }
   ],
   "source": [
    "limit(f , x , oo)"
   ]
  },
  {
   "cell_type": "code",
   "execution_count": 287,
   "metadata": {},
   "outputs": [
    {
     "data": {
      "text/latex": [
       "$\\displaystyle \\frac{1 - e^{x}}{e^{x} + 1}$"
      ],
      "text/plain": [
       "(1 - exp(x))/(exp(x) + 1)"
      ]
     },
     "execution_count": 287,
     "metadata": {},
     "output_type": "execute_result"
    }
   ],
   "source": [
    "f = (1 - exp(x))/(1 + exp(x))\n",
    "f"
   ]
  },
  {
   "cell_type": "code",
   "execution_count": 288,
   "metadata": {},
   "outputs": [
    {
     "data": {
      "text/latex": [
       "$\\displaystyle 1$"
      ],
      "text/plain": [
       "1"
      ]
     },
     "execution_count": 288,
     "metadata": {},
     "output_type": "execute_result"
    }
   ],
   "source": [
    "limit(f, x, -oo)"
   ]
  },
  {
   "cell_type": "markdown",
   "metadata": {},
   "source": [
    "También hay un cuarto parámetro opcional, para especificar la dirección de aproximación al objetivo límite.\n",
    "\"+\" (el valor predeterminado) da el límite desde arriba y \"-\" es desde abajo.\n",
    "\n",
    "Ejemplo:"
   ]
  },
  {
   "cell_type": "code",
   "execution_count": 289,
   "metadata": {},
   "outputs": [
    {
     "data": {
      "text/latex": [
       "$\\displaystyle \\frac{1}{x}$"
      ],
      "text/plain": [
       "1/x"
      ]
     },
     "execution_count": 289,
     "metadata": {},
     "output_type": "execute_result"
    }
   ],
   "source": [
    "f = 1/x\n",
    "f"
   ]
  },
  {
   "cell_type": "code",
   "execution_count": 290,
   "metadata": {},
   "outputs": [
    {
     "data": {
      "text/latex": [
       "$\\displaystyle -\\infty$"
      ],
      "text/plain": [
       "-oo"
      ]
     },
     "execution_count": 290,
     "metadata": {},
     "output_type": "execute_result"
    }
   ],
   "source": [
    "limit(f, x, 0, \"-\")"
   ]
  },
  {
   "cell_type": "markdown",
   "metadata": {},
   "source": [
    "Al igual que las funciones de cálculo anteriores tenemos para expresar a los limites sin evaluar el método Limit() y para evaluarlo la función .doit()."
   ]
  },
  {
   "cell_type": "code",
   "execution_count": 319,
   "metadata": {},
   "outputs": [
    {
     "data": {
      "text/latex": [
       "$\\displaystyle \\log{\\left(\\frac{2}{x^{2}} \\right)}$"
      ],
      "text/plain": [
       "log(2/x**2)"
      ]
     },
     "execution_count": 319,
     "metadata": {},
     "output_type": "execute_result"
    }
   ],
   "source": [
    "f = log(2/x**2)\n",
    "f"
   ]
  },
  {
   "cell_type": "code",
   "execution_count": 320,
   "metadata": {},
   "outputs": [
    {
     "data": {
      "text/latex": [
       "$\\displaystyle \\lim_{x \\to -\\infty} \\log{\\left(\\frac{2}{x^{2}} \\right)}$"
      ],
      "text/plain": [
       "Limit(log(2/x**2), x, -oo)"
      ]
     },
     "execution_count": 320,
     "metadata": {},
     "output_type": "execute_result"
    }
   ],
   "source": [
    "Limit(f, x, -oo)"
   ]
  },
  {
   "cell_type": "code",
   "execution_count": 321,
   "metadata": {},
   "outputs": [
    {
     "data": {
      "text/latex": [
       "$\\displaystyle -\\infty$"
      ],
      "text/plain": [
       "-oo"
      ]
     },
     "execution_count": 321,
     "metadata": {},
     "output_type": "execute_result"
    }
   ],
   "source": [
    "Limit(f, x, -oo).doit()"
   ]
  },
  {
   "cell_type": "markdown",
   "metadata": {},
   "source": [
    "# Taylor series "
   ]
  },
  {
   "cell_type": "markdown",
   "metadata": {},
   "source": [
    "Una aproximación de la serie de Taylor es una aproximación de una función obtenida a partir de su serie Taylor. Para calcularlo, use series (expr, x, x0, n), donde x es la variable relevante, x0 es\n",
    "el punto donde se realiza la expansión (por defecto es 0), y n es el orden de expansión (por defecto\n",
    "a 6)\n"
   ]
  },
  {
   "cell_type": "code",
   "execution_count": 294,
   "metadata": {},
   "outputs": [
    {
     "data": {
      "text/latex": [
       "$\\displaystyle 1 - \\frac{x^{2}}{2} + \\frac{x^{4}}{24} + O\\left(x^{6}\\right)$"
      ],
      "text/plain": [
       "1 - x**2/2 + x**4/24 + O(x**6)"
      ]
     },
     "execution_count": 294,
     "metadata": {},
     "output_type": "execute_result"
    }
   ],
   "source": [
    "series(cos(x), x)"
   ]
  },
  {
   "cell_type": "code",
   "execution_count": 295,
   "metadata": {},
   "outputs": [
    {
     "data": {
      "text/latex": [
       "$\\displaystyle \\log{\\left(x \\right)}$"
      ],
      "text/plain": [
       "log(x)"
      ]
     },
     "execution_count": 295,
     "metadata": {},
     "output_type": "execute_result"
    }
   ],
   "source": [
    "f = ln(x)\n",
    "f"
   ]
  },
  {
   "cell_type": "code",
   "execution_count": 296,
   "metadata": {},
   "outputs": [
    {
     "data": {
      "text/latex": [
       "$\\displaystyle -1 - \\frac{\\left(x - 1\\right)^{2}}{2} + \\frac{\\left(x - 1\\right)^{3}}{3} - \\frac{\\left(x - 1\\right)^{4}}{4} + \\frac{\\left(x - 1\\right)^{5}}{5} + x + O\\left(\\left(x - 1\\right)^{6}; x\\rightarrow 1\\right)$"
      ],
      "text/plain": [
       "-1 - (x - 1)**2/2 + (x - 1)**3/3 - (x - 1)**4/4 + (x - 1)**5/5 + x + O((x - 1)**6, (x, 1))"
      ]
     },
     "execution_count": 296,
     "metadata": {},
     "output_type": "execute_result"
    }
   ],
   "source": [
    "series(f, x, 1, 6)"
   ]
  },
  {
   "cell_type": "markdown",
   "metadata": {},
   "source": [
    "El término O al final representa el término de orden de Landau en x = 0,Significa que se omiten todos los términos x con potencia mayor o igual que que se señala(la potencia posterior a O). Los términos del pedido se pueden crear y manipular fuera de la serie. Absorben automáticamente los términos de orden superior."
   ]
  },
  {
   "cell_type": "code",
   "execution_count": 297,
   "metadata": {},
   "outputs": [
    {
     "data": {
      "text/latex": [
       "$\\displaystyle \\sqrt{x}$"
      ],
      "text/plain": [
       "sqrt(x)"
      ]
     },
     "execution_count": 297,
     "metadata": {},
     "output_type": "execute_result"
    }
   ],
   "source": [
    "f = sqrt(x)\n",
    "f"
   ]
  },
  {
   "cell_type": "code",
   "execution_count": 298,
   "metadata": {},
   "outputs": [
    {
     "data": {
      "text/latex": [
       "$\\displaystyle \\frac{105}{32 x^{\\frac{9}{2}}}$"
      ],
      "text/plain": [
       "105/(32*x**(9/2))"
      ]
     },
     "execution_count": 298,
     "metadata": {},
     "output_type": "execute_result"
    }
   ],
   "source": [
    "diff(f, x, 5)"
   ]
  },
  {
   "cell_type": "code",
   "execution_count": 299,
   "metadata": {},
   "outputs": [
    {
     "data": {
      "text/latex": [
       "$\\displaystyle 1 - \\frac{\\left(x - 4\\right)^{2}}{64} + \\frac{\\left(x - 4\\right)^{3}}{512} - \\frac{5 \\left(x - 4\\right)^{4}}{16384} + \\frac{7 \\left(x - 4\\right)^{5}}{131072} + \\frac{x}{4} + O\\left(\\left(x - 4\\right)^{6}; x\\rightarrow 4\\right)$"
      ],
      "text/plain": [
       "1 - (x - 4)**2/64 + (x - 4)**3/512 - 5*(x - 4)**4/16384 + 7*(x - 4)**5/131072 + x/4 + O((x - 4)**6, (x, 4))"
      ]
     },
     "execution_count": 299,
     "metadata": {},
     "output_type": "execute_result"
    }
   ],
   "source": [
    "series(f, x, 4, 6)"
   ]
  },
  {
   "cell_type": "markdown",
   "metadata": {},
   "source": [
    "# Resolver ecuaciones "
   ]
  },
  {
   "cell_type": "markdown",
   "metadata": {},
   "source": [
    "La función principal que se utiliza para resolver ecuaciones es solve (). Su interfaz es algo\n",
    "complicado ya que acepta muchos tipos diferentes de entradas y puede generar resultados en varias formas\n",
    "dependiendo de la entrada.\n",
    "Para ecuaciones simples en donde igualamos a 0 tenemos la siguiente sintaxis  solve(expresión, variable).\n",
    "Esto puede resolver algebraica\n",
    "y ecuaciones trascendentales que involucran fracciones racionales, raíces cuadradas, valores absolutos,\n",
    "exponenciales, logaritmos, funciones trigonométricas, etc. El resultado es entonces una lista de\n",
    "los valores de las variables que satisfacen la ecuación.\n",
    "En es caso de tener una igualdad de expresiones colocar así solve(expr A – expr B, x)\n",
    "\n",
    "A continuacion se muestra como"
   ]
  },
  {
   "cell_type": "code",
   "execution_count": 300,
   "metadata": {},
   "outputs": [
    {
     "data": {
      "text/plain": [
       "[-1, 1]"
      ]
     },
     "execution_count": 300,
     "metadata": {},
     "output_type": "execute_result"
    }
   ],
   "source": [
    "solve(x**2 - 1, x)"
   ]
  },
  {
   "cell_type": "code",
   "execution_count": 301,
   "metadata": {},
   "outputs": [
    {
     "data": {
      "text/latex": [
       "$\\displaystyle 2 x^{2}$"
      ],
      "text/plain": [
       "2*x**2"
      ]
     },
     "execution_count": 301,
     "metadata": {},
     "output_type": "execute_result"
    }
   ],
   "source": [
    "expr_a = 2*x**2\n",
    "expr_a"
   ]
  },
  {
   "cell_type": "code",
   "execution_count": 302,
   "metadata": {},
   "outputs": [
    {
     "data": {
      "text/latex": [
       "$\\displaystyle 3 x$"
      ],
      "text/plain": [
       "3*x"
      ]
     },
     "execution_count": 302,
     "metadata": {},
     "output_type": "execute_result"
    }
   ],
   "source": [
    "expr_b = 3*x\n",
    "expr_b"
   ]
  },
  {
   "cell_type": "code",
   "execution_count": 303,
   "metadata": {},
   "outputs": [
    {
     "data": {
      "text/plain": [
       "[0, 3/2]"
      ]
     },
     "execution_count": 303,
     "metadata": {},
     "output_type": "execute_result"
    }
   ],
   "source": [
    "solve(expr_a - expr_b, x)"
   ]
  },
  {
   "cell_type": "code",
   "execution_count": null,
   "metadata": {},
   "outputs": [],
   "source": []
  },
  {
   "cell_type": "markdown",
   "metadata": {},
   "source": [
    "# Algunas funciones creadas con SymPy"
   ]
  },
  {
   "cell_type": "markdown",
   "metadata": {},
   "source": [
    "A continuación crearemos un par de funciones implementando los conocimientos que hemos adquirido en el nootebook utilizando el módulo de cálculo de SymPy con el objetivo de  ejemplificar las oportunidades que  SymPy nos ofrece, en donde yo quiero destacar que esto solo es una parte muy resumida y breve de todas la funciones y aplicaciones  que SymPy tiene y que nos permite realizar, ya que con esta paquetería la cantidad de herramientas aplicaciones, funciones,  métodos y uso se extiende más a de algunas funciones y aplicaciones para el cálculo.\n",
    "\n"
   ]
  },
  {
   "cell_type": "markdown",
   "metadata": {},
   "source": [
    "# Graficas de función, derivada y función primitiva"
   ]
  },
  {
   "cell_type": "markdown",
   "metadata": {},
   "source": [
    "A continuación se vamos a realizar una función que va a graficar funciones y utilizaremos el módulo de graficas que SymPy tiene si quieres saber cómo graficar de manera rápida y sencilla [\"Como graficar de manera simple y facíl en SymPy\"](https://colab.research.google.com/github/HaydeePeruyero/Geometria-Analitica-1/blob/master/3_1_Graficar_con_Sympy.ipynb).\n",
    "Si quieres conocer más acerca del módulo de graficas de SymPy entra al sitio web oficial de [\"SymPy plotting\"](https://docs.sympy.org/latest/modules/plotting.html)"
   ]
  },
  {
   "cell_type": "code",
   "execution_count": 304,
   "metadata": {},
   "outputs": [],
   "source": [
    "def visual_grafic(function, a=-10, b=10):\n",
    "    '''Esta función recibe a una función matemática y a un intervalo en donde se desea graficar, la función regresa las gráficas de la función, la derivada de la función y la función primitiva o anti-derivada de la función. \\n \\n visual_grafic(funcion, limite de graficación a, limite de graficación b) '''\n",
    "    print((function))\n",
    "    \n",
    "    dx = diff(function, x) \n",
    "    print(dx)\n",
    "    dx\n",
    "    integ = (integrate(function, x))\n",
    "    print(integ)\n",
    "    \n",
    "    plot(function, (x, a, b),line_color='cyan', title='Función' )\n",
    "    plot(dx, (x, a, b), line_color='purple', title='Derivada de la función')\n",
    "    plot(integ, (x, a, b), line_color='pink', title='Función primitiva')\n",
    "    "
   ]
  },
  {
   "cell_type": "code",
   "execution_count": 313,
   "metadata": {},
   "outputs": [],
   "source": [
    "visual_grafic?"
   ]
  },
  {
   "cell_type": "code",
   "execution_count": 315,
   "metadata": {},
   "outputs": [
    {
     "data": {
      "text/latex": [
       "$\\displaystyle x \\sin{\\left(\\frac{1}{x} \\right)}$"
      ],
      "text/plain": [
       "x*sin(1/x)"
      ]
     },
     "execution_count": 315,
     "metadata": {},
     "output_type": "execute_result"
    }
   ],
   "source": [
    "f = x*sin(1/x)\n",
    "f"
   ]
  },
  {
   "cell_type": "code",
   "execution_count": 307,
   "metadata": {},
   "outputs": [
    {
     "name": "stdout",
     "output_type": "stream",
     "text": [
      "x*sin(1/x)\n",
      "sin(1/x) - cos(1/x)/x\n",
      "x**2*sin(1/x)/2 + x*cos(1/x)/2 + Si(1/x)/2\n"
     ]
    },
    {
     "data": {
      "image/png": "[encoded data removed]",
      "text/plain": [
       "<Figure size 432x288 with 1 Axes>"
      ]
     },
     "metadata": {
      "needs_background": "light"
     },
     "output_type": "display_data"
    },
    {
     "data": {
      "image/png": "[encoded data removed]",
      "text/plain": [
       "<Figure size 432x288 with 1 Axes>"
      ]
     },
     "metadata": {
      "needs_background": "light"
     },
     "output_type": "display_data"
    },
    {
     "data": {
      "image/png": "[encoded data removed]",
      "text/plain": [
       "<Figure size 432x288 with 1 Axes>"
      ]
     },
     "metadata": {
      "needs_background": "light"
     },
     "output_type": "display_data"
    }
   ],
   "source": [
    "visual_grafic(f, -0.5, 0.5)"
   ]
  },
  {
   "cell_type": "markdown",
   "metadata": {},
   "source": [
    "# Calculo de área entre dos funciones"
   ]
  },
  {
   "cell_type": "markdown",
   "metadata": {},
   "source": [
    "En esta función vamos a calcular el área que se limita por la curva de dos funciones en donde la función va a recibir 2 argumentos la función o expresión matemática inferior y la función o expresión matemática superior.\n",
    "\n",
    "\n",
    "Esta función recibe dos expresiones o funciones creadas en sympy y nos regresa los puntos en donde se intersectan las funciones y el área entre las dos funciones."
   ]
  },
  {
   "cell_type": "code",
   "execution_count": 309,
   "metadata": {},
   "outputs": [],
   "source": [
    "def area_entre_funciones(fi, fs):\n",
    "    '''Esta función recibe dos expresiones o funciones creadas en sympy y nos regresa los puntos en donde se intersectan las funciones y el área entre las dos funciones '''\n",
    "    #fis = fi - fs\n",
    "    #print(fis)\n",
    "    puntos = solve(fi - fs, x)\n",
    "    print('Los puntos donde se intersectan las funciones son:', puntos)\n",
    "    a = puntos[0]\n",
    "    b = puntos[1]\n",
    "    \n",
    "    A = integrate(fi - fs, (x, a, b))\n",
    "    #print(A)\n",
    "    #f = A.subs(x, a)\n",
    "    at = N(simplify(A), 10)\n",
    "    abs(at)\n",
    "    #print(at)\n",
    "    if at > 0:\n",
    "        print(at)\n",
    "        #print('el valor llega aqui')\n",
    "        plot(fi, fs, (x, a-1, b+1), line_color='cyan', title='Área entre funciones')\n",
    "        \n",
    "    elif at < 0:\n",
    "        nat = at*(-1)\n",
    "        print('El valor de el área señalada es igual a', nat)\n",
    "        #print('el valor llega aqui')\n",
    "        plot(fi, fs, (x, a-1, b+1), line_color='cyan', title='Área entre funciones')\n",
    "        \n",
    "   \n",
    "    #at = positive=true \n",
    "    #print(at)\n",
    "    #print(f)\n",
    "    #g = A.subs(x, b)\n",
    "    #print(g)\n",
    "    #plot(fi, fs, (x, a-1, b+1), line_color='cyan', title='Área entre funciones')"
   ]
  },
  {
   "cell_type": "code",
   "execution_count": 317,
   "metadata": {},
   "outputs": [],
   "source": [
    "fi = x**2 - 2*x\n",
    "fs = 12 - x**2"
   ]
  },
  {
   "cell_type": "code",
   "execution_count": 316,
   "metadata": {},
   "outputs": [],
   "source": [
    "area_entre_funciones?"
   ]
  },
  {
   "cell_type": "code",
   "execution_count": 318,
   "metadata": {},
   "outputs": [
    {
     "name": "stdout",
     "output_type": "stream",
     "text": [
      "Los puntos donde se intersectan las funciones son: [-2, 3]\n",
      "El valor de el área señalada es igual a 41.66666667\n"
     ]
    },
    {
     "data": {
      "image/png": "[encoded data removed]",
      "text/plain": [
       "<Figure size 432x288 with 1 Axes>"
      ]
     },
     "metadata": {
      "needs_background": "light"
     },
     "output_type": "display_data"
    }
   ],
   "source": [
    "area_entre_funciones(fi, fs)"
   ]
  },
  {
   "cell_type": "code",
   "execution_count": 311,
   "metadata": {},
   "outputs": [],
   "source": [
    "fi = x**2 - 2*x \n",
    "fs = x"
   ]
  },
  {
   "cell_type": "code",
   "execution_count": 312,
   "metadata": {},
   "outputs": [
    {
     "name": "stdout",
     "output_type": "stream",
     "text": [
      "Los puntos donde se intersectan las funciones son: [0, 3]\n",
      "El valor de el área señalada es igual a 4.500000000\n"
     ]
    },
    {
     "data": {
      "image/png": "[encoded data removed]",
      "text/plain": [
       "<Figure size 432x288 with 1 Axes>"
      ]
     },
     "metadata": {
      "needs_background": "light"
     },
     "output_type": "display_data"
    }
   ],
   "source": [
    "area_entre_funciones(fi, fs)"
   ]
  },
  {
   "cell_type": "markdown",
   "metadata": {},
   "source": [
    "Si quieres conocer más acerca de SymPy entra en su página web y ahí podrás encontrar toda la información sobre SymPy y también dentro de su página se encuentra toda la documentación y está dividida y estructurada por temas y subtemas así como sus funciones y aplicaciones.  \n",
    "\n",
    "[Pagína web SymPY](https://www.sympy.org/)"
   ]
  },
  {
   "cell_type": "markdown",
   "metadata": {},
   "source": [
    "# Bibliografía"
   ]
  },
  {
   "cell_type": "markdown",
   "metadata": {},
   "source": [
    "* Ronan Lamy, R. L. (2013). Instant SymPy Starter (1.a ed., Vol. 1). http://www.packtpub.com/. https://www.packtpub.com/big-data-and-business-intelligence/instant-sympy-starter-instant\n",
    "\n",
    "\n",
    "* Stewart, J. M. (2014). Python for Scientists (Segunda Edición, Vol. 1). Department of Applied Mathematics & Theoretical Physics University of Cambridge. https://doi.org/10.1017/9781108120241\n",
    "\n",
    "\n",
    "* Welcome to SymPy’s documentation! — SymPy 1.7.1 documentation. (s. f.). SymPy. Recuperado 16 de enero de 2021, de https://docs.sympy.org/latest/index.html"
   ]
  },
  {
   "cell_type": "markdown",
   "metadata": {},
   "source": [
    "Elaboró Hernández Martínez Erick Daniel             \n",
    "Github: Erickkhm\n",
    "\n",
    "Correo electrónico: erickhernandez@encit.unam.mx\n",
    "\n",
    "Licenciatura en ciencias de la tierra (ENCiT)   \n",
    "\n",
    "Curso de Herramientas Computacioneales\n",
    "\n",
    "Grupo:1002\n"
   ]
  },
  {
   "cell_type": "markdown",
   "metadata": {},
   "source": [
    "[Volver al inicio](#Introducción-a-SymPy)"
   ]
  }
 ],
 "metadata": {
  "kernelspec": {
   "display_name": "Python 3",
   "language": "python",
   "name": "python3"
  },
  "language_info": {
   "codemirror_mode": {
    "name": "ipython",
    "version": 3
   },
   "file_extension": ".py",
   "mimetype": "text/x-python",
   "name": "python",
   "nbconvert_exporter": "python",
   "pygments_lexer": "ipython3",
   "version": "3.8.3"
  }
 },
 "nbformat": 4,
 "nbformat_minor": 4
}
